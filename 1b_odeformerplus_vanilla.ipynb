{
 "cells": [
  {
   "cell_type": "code",
   "execution_count": null,
   "id": "9a1d02de-0681-4898-a22c-1ec8e1c10c8f",
   "metadata": {},
   "outputs": [],
   "source": [
    "from odeformerplus.all import *"
   ]
  },
  {
   "cell_type": "code",
   "execution_count": null,
   "id": "bc079bb2-c269-4253-a2f1-00385b19d3ba",
   "metadata": {},
   "outputs": [],
   "source": [
    "reset_seed(42)\n",
    "DEVICE = get_device()"
   ]
  },
  {
   "cell_type": "markdown",
   "id": "5e1798cf-df62-4902-9ed3-3abd3d07212e",
   "metadata": {},
   "source": [
    "## eval"
   ]
  },
  {
   "cell_type": "code",
   "execution_count": null,
   "id": "b9f3dd1b-6b7d-4c84-8a83-dec987035f06",
   "metadata": {},
   "outputs": [],
   "source": [
    "model = ODEFormerPlus_vanilla(device=DEVICE)\n",
    "load_ckpt(model, 'model_ckpt/vanilla/315/15220.pt')"
   ]
  },
  {
   "cell_type": "code",
   "execution_count": null,
   "id": "46ad2915-0321-4d92-be77-c5b789b8489a",
   "metadata": {},
   "outputs": [],
   "source": [
    "def infer_fn(x,y):\n",
    "    return model.inference(\n",
    "        x,\n",
    "        noise_sig=0,\n",
    "        drop_rate=0,\n",
    "        rescale_input=False, # already rescaled in eval_odebench\n",
    "        decode_strategy='beam',\n",
    "        max_seq_len=200,\n",
    "        num_beams=20,\n",
    "        temperature=0.1\n",
    "    )['output']\n",
    "res,succ,r2 = eval_odebench(infer_fn, noise_sig=0.05, drop_rate=0.2, r2_threshold=0.5)"
   ]
  },
  {
   "cell_type": "code",
   "execution_count": null,
   "id": "2117bef4-1094-46c3-a4f4-aa4e2959dd8d",
   "metadata": {},
   "outputs": [],
   "source": [
    "trajs_list,sequence_list = solve_odebench(idx=34, noise_sig=0.05, drop_rate=0.2, rescale=True, print_desc=True)\n",
    "trajs = trajs_list[0]\n",
    "sequence = sequence_list[0]\n",
    "print('True')\n",
    "print('----')\n",
    "SymbolicExpression().print_readable_sequence(sequence)\n",
    "print('----')\n",
    "pred = infer_fn(trajs, None)\n",
    "try:\n",
    "    integrate_ode_and_plot(pred, trajs, rescale_input=False, calc_r2_score=True, r2_threshold=0.5);\n",
    "except: pass"
   ]
  },
  {
   "cell_type": "code",
   "execution_count": null,
   "id": "7d4ed1d2-5f8e-4719-b316-af874669965f",
   "metadata": {},
   "outputs": [],
   "source": []
  }
 ],
 "metadata": {
  "kernelspec": {
   "display_name": "Python 3 (ipykernel)",
   "language": "python",
   "name": "python3"
  },
  "language_info": {
   "codemirror_mode": {
    "name": "ipython",
    "version": 3
   },
   "file_extension": ".py",
   "mimetype": "text/x-python",
   "name": "python",
   "nbconvert_exporter": "python",
   "pygments_lexer": "ipython3",
   "version": "3.12.2"
  }
 },
 "nbformat": 4,
 "nbformat_minor": 5
}
