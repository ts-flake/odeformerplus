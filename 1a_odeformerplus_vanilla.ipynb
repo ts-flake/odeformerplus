{
 "cells": [
  {
   "cell_type": "code",
   "execution_count": null,
   "id": "9a1d02de-0681-4898-a22c-1ec8e1c10c8f",
   "metadata": {},
   "outputs": [],
   "source": [
    "from odeformerplus.all import *"
   ]
  },
  {
   "cell_type": "code",
   "execution_count": null,
   "id": "bc079bb2-c269-4253-a2f1-00385b19d3ba",
   "metadata": {},
   "outputs": [],
   "source": [
    "reset_seed(42)\n",
    "DEVICE = get_device()"
   ]
  },
  {
   "cell_type": "markdown",
   "id": "7496c0a8-aaf8-4bf9-98bd-3131813bd69d",
   "metadata": {},
   "source": [
    "## train"
   ]
  },
  {
   "cell_type": "code",
   "execution_count": null,
   "id": "8f9eb28d-f983-48f6-942b-e4d5f0d53573",
   "metadata": {},
   "outputs": [],
   "source": [
    "ds_train = SymbolicRegressionDataset('dataset/10k/data_all.json')"
   ]
  },
  {
   "cell_type": "code",
   "execution_count": null,
   "id": "e975faec-ee33-46ab-8c25-c6052770bc3c",
   "metadata": {},
   "outputs": [],
   "source": [
    "dl_train = DataLoader(ds_train, batch_sampler = BucketBatchSampler(ds_train, 64, 100, shuffle=True), collate_fn=collate_fn_trajs)"
   ]
  },
  {
   "cell_type": "code",
   "execution_count": null,
   "id": "30504a2a-5aa0-4745-aefd-322931a4a65d",
   "metadata": {},
   "outputs": [],
   "source": [
    "model = ODEFormerPlus_vanilla(device=DEVICE)\n",
    "count_params(model);"
   ]
  },
  {
   "cell_type": "code",
   "execution_count": null,
   "id": "22745c7e-fd16-4adc-84d9-3c649c308ed5",
   "metadata": {},
   "outputs": [],
   "source": [
    "opt = torch.optim.Adam(model.parameters(), lr=1e-4)\n",
    "# sch = get_lr_scheduler(opt, d_model=256, warmup_steps=1000)\n",
    "sch = None"
   ]
  },
  {
   "cell_type": "code",
   "execution_count": null,
   "id": "d2dc3818-d20b-4fb3-ba0a-4c29f3b9db5f",
   "metadata": {},
   "outputs": [],
   "source": [
    "def train(epochs, last_step=0, print_every=200, save_every=1000, save_path='model_ckpt/vanilla/'):\n",
    "    step = last_step\n",
    "    for epoch in tqdm(range(epochs), desc='Epoch'):\n",
    "        for batch in tqdm(dl_train, total=len(dl_train), desc='Train', leave=False):\n",
    "            loss = model.train_step(batch['trajectories'], batch['odes'], opt)\n",
    "            # sch.step()\n",
    "            step += 1\n",
    "            \n",
    "            if step % print_every == 0:\n",
    "                print(f'[{epoch}|{step}] loss: {loss:.4e}')\n",
    "            if step % save_every == 0:\n",
    "                path = save_path + f'{step}.pt'\n",
    "                save_ckpt(model, path)\n",
    "    \n",
    "    save_ckpt(model, save_path + f'{step}.pt')"
   ]
  },
  {
   "cell_type": "code",
   "execution_count": null,
   "id": "1d15f5b7-9733-4de8-b512-e8a42ea9e7fe",
   "metadata": {},
   "outputs": [],
   "source": [
    "train(20, last_step=12000, save_path='model_ckpt/vanilla/315/')"
   ]
  }
 ],
 "metadata": {
  "kernelspec": {
   "display_name": "Python 3 (ipykernel)",
   "language": "python",
   "name": "python3"
  },
  "language_info": {
   "codemirror_mode": {
    "name": "ipython",
    "version": 3
   },
   "file_extension": ".py",
   "mimetype": "text/x-python",
   "name": "python",
   "nbconvert_exporter": "python",
   "pygments_lexer": "ipython3",
   "version": "3.12.2"
  }
 },
 "nbformat": 4,
 "nbformat_minor": 5
}
