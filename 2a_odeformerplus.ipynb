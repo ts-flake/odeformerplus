{
 "cells": [
  {
   "cell_type": "code",
   "execution_count": null,
   "id": "9a1d02de-0681-4898-a22c-1ec8e1c10c8f",
   "metadata": {},
   "outputs": [],
   "source": [
    "from odeformerplus.all import *"
   ]
  },
  {
   "cell_type": "code",
   "execution_count": null,
   "id": "bc079bb2-c269-4253-a2f1-00385b19d3ba",
   "metadata": {},
   "outputs": [],
   "source": [
    "reset_seed(42)\n",
    "DEVICE = get_device()"
   ]
  },
  {
   "cell_type": "code",
   "execution_count": null,
   "id": "59368ff3-10de-4ff5-ac9a-5ab64d1125c0",
   "metadata": {},
   "outputs": [],
   "source": [
    "ds_train = SymbolicRegressionDataset('dataset/10k/data_all.json')"
   ]
  },
  {
   "cell_type": "markdown",
   "id": "56183671-2c96-4fd8-9219-61ad657f6f0c",
   "metadata": {},
   "source": [
    "## stage 1"
   ]
  },
  {
   "cell_type": "code",
   "execution_count": null,
   "id": "e975faec-ee33-46ab-8c25-c6052770bc3c",
   "metadata": {},
   "outputs": [],
   "source": [
    "dl_train1 = DataLoader(ds_train, batch_size=16, shuffle=True, collate_fn=collate_fn_lines)"
   ]
  },
  {
   "cell_type": "code",
   "execution_count": null,
   "id": "96146233-0a02-4174-8c23-2fa1d6c9cc33",
   "metadata": {},
   "outputs": [],
   "source": [
    "stage1 = ODEFormerPlusStage1(actn=nn.SiLU(), device=DEVICE)\n",
    "count_params(stage1);"
   ]
  },
  {
   "cell_type": "code",
   "execution_count": null,
   "id": "2545dcdb-e59c-4ced-82bc-6e1fdbee6bf3",
   "metadata": {},
   "outputs": [],
   "source": [
    "opt1 = torch.optim.Adam(stage1.parameters(), lr=1e-4)"
   ]
  },
  {
   "cell_type": "code",
   "execution_count": null,
   "id": "d2dc3818-d20b-4fb3-ba0a-4c29f3b9db5f",
   "metadata": {},
   "outputs": [],
   "source": [
    "def train1(epochs, last_step=0, print_every=200, save_every=1000, save_path='model_ckpt/stage1/'):\n",
    "    step = last_step\n",
    "    for epoch in tqdm(range(epochs), desc='Epoch'):\n",
    "        for batch in tqdm(dl_train1, total=len(dl_train1), desc='Train', leave=False):\n",
    "            loss = stage1.train_step(batch['lines'], batch['odes'], opt1, contrastive_loss_weight=1)\n",
    "            # sch.step()\n",
    "            step += 1\n",
    "            \n",
    "            if step % print_every == 0:\n",
    "                print(f'[{epoch}|{step}] loss: {loss['loss']:.2e}, cl: {loss['loss_cl']:.2e}', end=' ')\n",
    "                print(f'code: {loss['loss_code']:.2e}, ce: {loss['loss_dec']:.2e}')\n",
    "            if step % save_every == 0:\n",
    "                path = save_path + f'{step}.pt'\n",
    "                save_ckpt(stage1, path)\n",
    "    \n",
    "    save_ckpt(stage1, save_path + f'{step}.pt')"
   ]
  },
  {
   "cell_type": "code",
   "execution_count": null,
   "id": "ba32d677-5e92-4bac-b8ef-ccaab892cffc",
   "metadata": {
    "scrolled": true
   },
   "outputs": [],
   "source": [
    "train1(20, save_path='model_ckpt/stage1/316/')"
   ]
  },
  {
   "cell_type": "markdown",
   "id": "e9677cd7-aaee-45e9-adcb-a5895c7c86d3",
   "metadata": {},
   "source": [
    "## stage 2"
   ]
  },
  {
   "cell_type": "code",
   "execution_count": null,
   "id": "29d2ba26-00bd-4c65-a850-8279430807f5",
   "metadata": {},
   "outputs": [],
   "source": [
    "# load_ckpt(stage1, 'model_ckpt/stage1/316/12500.pt')"
   ]
  },
  {
   "cell_type": "code",
   "execution_count": null,
   "id": "a3701933-0fc6-4d09-b05d-474b26e71a60",
   "metadata": {},
   "outputs": [],
   "source": [
    "dl_train2 = DataLoader(ds_train, batch_sampler=BucketBatchSampler(ds_train, 16, 100), collate_fn=collate_fn_trajs_lines)"
   ]
  },
  {
   "cell_type": "code",
   "execution_count": null,
   "id": "7fc1290b-a719-41dd-a81f-8df5e9cca115",
   "metadata": {},
   "outputs": [],
   "source": [
    "stage2 = ODEFormerPlusStage2(stage1, device=DEVICE)\n",
    "count_params(stage2);"
   ]
  },
  {
   "cell_type": "code",
   "execution_count": null,
   "id": "b54ffc44-d162-4fa4-953a-792b6aa1afae",
   "metadata": {},
   "outputs": [],
   "source": [
    "opt2 = torch.optim.Adam(stage2.parameters(), lr=1e-4)"
   ]
  },
  {
   "cell_type": "code",
   "execution_count": null,
   "id": "9a310bb8-ba42-40db-8825-f2e7510fa0f4",
   "metadata": {},
   "outputs": [],
   "source": [
    "def train2(epochs, last_step=0, print_every=200, save_every=1000, save_path='model_ckpt/stage2/'):\n",
    "    step = last_step\n",
    "    for epoch in tqdm(range(epochs), desc='Epoch'):\n",
    "        for batch in tqdm(dl_train2, total=len(dl_train2), desc='Train', leave=False):\n",
    "            loss = stage2.train_step(batch['lines'], batch['trajectories'], batch['odes'], opt2, noise_sig=0.05, drop_rate=0.2)\n",
    "            # sch.step()\n",
    "            step += 1\n",
    "            \n",
    "            if step % print_every == 0:\n",
    "                print(f'[{epoch}|{step}] loss: {loss['loss']:.2e}')\n",
    "            if step % save_every == 0:\n",
    "                path = save_path + f'{step}.pt'\n",
    "                save_ckpt(stage2, path)\n",
    "    \n",
    "    save_ckpt(stage2, save_path + f'{step}.pt')"
   ]
  },
  {
   "cell_type": "code",
   "execution_count": null,
   "id": "cef3744e-7699-45a6-8e6e-0aca3c10b056",
   "metadata": {
    "scrolled": true
   },
   "outputs": [],
   "source": [
    "train2(20, save_path='model_ckpt/stage2/316/')"
   ]
  },
  {
   "cell_type": "code",
   "execution_count": null,
   "id": "5c518ae0-9a65-4c50-b529-ca4e6be37045",
   "metadata": {},
   "outputs": [],
   "source": []
  }
 ],
 "metadata": {
  "kernelspec": {
   "display_name": "Python 3 (ipykernel)",
   "language": "python",
   "name": "python3"
  },
  "language_info": {
   "codemirror_mode": {
    "name": "ipython",
    "version": 3
   },
   "file_extension": ".py",
   "mimetype": "text/x-python",
   "name": "python",
   "nbconvert_exporter": "python",
   "pygments_lexer": "ipython3",
   "version": "3.12.2"
  }
 },
 "nbformat": 4,
 "nbformat_minor": 5
}
