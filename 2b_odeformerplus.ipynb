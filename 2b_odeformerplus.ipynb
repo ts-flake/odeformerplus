{
 "cells": [
  {
   "cell_type": "code",
   "execution_count": null,
   "id": "9a1d02de-0681-4898-a22c-1ec8e1c10c8f",
   "metadata": {},
   "outputs": [],
   "source": [
    "from odeformerplus.all import *"
   ]
  },
  {
   "cell_type": "code",
   "execution_count": null,
   "id": "bc079bb2-c269-4253-a2f1-00385b19d3ba",
   "metadata": {},
   "outputs": [],
   "source": [
    "reset_seed(42)\n",
    "DEVICE = get_device()"
   ]
  },
  {
   "cell_type": "markdown",
   "id": "f63b83d1-0b48-4a47-920c-0bf23d1794f6",
   "metadata": {},
   "source": [
    "## inference"
   ]
  },
  {
   "cell_type": "code",
   "execution_count": null,
   "id": "26a693e6-a195-41fa-a211-7243f5be42b7",
   "metadata": {},
   "outputs": [],
   "source": [
    "stage1 = ODEFormerPlusStage1(device=DEVICE)\n",
    "load_ckpt(stage1, 'model_ckpt/stage1/316/12500.pt')\n",
    "stage2 = ODEFormerPlusStage2(stage1, device=DEVICE)\n",
    "load_ckpt(stage2, 'model_ckpt/stage2/316/12600.pt')"
   ]
  },
  {
   "cell_type": "code",
   "execution_count": null,
   "id": "231e657c-2c85-4bf6-9389-db65344430ec",
   "metadata": {},
   "outputs": [],
   "source": [
    "model = ODEFormerPlus(stage2.encoder, stage1.decoder)\n",
    "count_params(model);"
   ]
  },
  {
   "cell_type": "code",
   "execution_count": null,
   "id": "46ad2915-0321-4d92-be77-c5b789b8489a",
   "metadata": {},
   "outputs": [],
   "source": [
    "subexpr = lambda y: (['<mask>', '|'] * (1 + sum(s == '|' for s in y)))[:-1]\n",
    "def infer_fn(x,y):\n",
    "    return model.inference(\n",
    "        x,\n",
    "        subexpr(y),\n",
    "        noise_sig=0,\n",
    "        drop_rate=0,\n",
    "        rescale_input=False, # already rescaled in eval_odebench\n",
    "        decode_strategy='greedy',\n",
    "        max_seq_len=200,\n",
    "        num_beams=20,\n",
    "        temperature=0.1\n",
    "    )['output']\n",
    "res,succ,r2 = eval_odebench(inference_fn, noise_sig=0.05, drop_rate=0.2, r2_threshold=0.5)"
   ]
  },
  {
   "cell_type": "code",
   "execution_count": null,
   "id": "2117bef4-1094-46c3-a4f4-aa4e2959dd8d",
   "metadata": {},
   "outputs": [],
   "source": [
    "trajs_list,sequence_list = solve_odebench(idx=10, noise_sig=0.05, drop_rate=0.2, rescale=True, print_desc=True)\n",
    "trajs = trajs_list[0]\n",
    "sequence = sequence_list[0]\n",
    "print('True')\n",
    "print('----')\n",
    "SymbolicExpression().print_readable_sequence(sequence)\n",
    "print('----')\n",
    "pred = infer_fn(trajs, sequence)\n",
    "try:\n",
    "    integrate_ode_and_plot(pred, trajs, rescale_input=False, calc_r2_score=True, r2_threshold=0.9);\n",
    "except: pass"
   ]
  },
  {
   "cell_type": "code",
   "execution_count": null,
   "id": "5c518ae0-9a65-4c50-b529-ca4e6be37045",
   "metadata": {},
   "outputs": [],
   "source": []
  }
 ],
 "metadata": {
  "kernelspec": {
   "display_name": "Python 3 (ipykernel)",
   "language": "python",
   "name": "python3"
  },
  "language_info": {
   "codemirror_mode": {
    "name": "ipython",
    "version": 3
   },
   "file_extension": ".py",
   "mimetype": "text/x-python",
   "name": "python",
   "nbconvert_exporter": "python",
   "pygments_lexer": "ipython3",
   "version": "3.12.2"
  }
 },
 "nbformat": 4,
 "nbformat_minor": 5
}
